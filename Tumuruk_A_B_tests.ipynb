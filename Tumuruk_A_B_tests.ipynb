{
 "cells": [
  {
   "cell_type": "markdown",
   "id": "7894f4bf",
   "metadata": {},
   "source": [
    " # Принятие решений в бизнесе (А/В тест)"
   ]
  },
  {
   "cell_type": "markdown",
   "id": "c8b51f59",
   "metadata": {},
   "source": []
  },
  {
   "cell_type": "markdown",
   "id": "3bf6574d",
   "metadata": {},
   "source": [
    "### Загрузка и преобработка данных"
   ]
  },
  {
   "cell_type": "code",
   "execution_count": 1,
   "id": "a3bf8c05",
   "metadata": {},
   "outputs": [],
   "source": [
    "# Загрузка библиотек\n",
    "\n",
    "import pandas as pd\n",
    "import datetime as dt\n",
    "\n",
    "import matplotlib.pyplot as plt\n",
    "%matplotlib inline\n",
    "from matplotlib import pyplot as plt\n",
    "import numpy as np\n",
    "import seaborn as sns\n",
    "import scipy.stats as stats\n",
    "import math as mth\n",
    "import pandas as pd\n",
    "from pandas.plotting import register_matplotlib_converters\n",
    "import warnings\n",
    "# конвертеры, которые позволяют использовать типы pandas в matplotlib  \n",
    "register_matplotlib_converters()\n"
   ]
  },
  {
   "cell_type": "code",
   "execution_count": 2,
   "id": "71407772",
   "metadata": {},
   "outputs": [],
   "source": [
    "# Загрузка данных\n",
    "\n",
    "try: \n",
    "    hypothesis = pd.read_csv('/Users/tumur/Downloads/hypothesis.csv')\n",
    "    orders = pd.read_csv('/Users/tumur/Downloads/orders.csv')\n",
    "    visitors = pd.read_csv('/Users/tumur/Downloads/visitors.csv')\n",
    "except :\n",
    "    hypothesis = pd.read_csv('/datasets/hypothesis.csv')\n",
    "    orders = pd.read_csv('/datasets/orders.csv')\n",
    "    visitors = pd.read_csv('/datasets/visitors.csv')\n",
    "    "
   ]
  },
  {
   "cell_type": "markdown",
   "id": "3ae71b18",
   "metadata": {},
   "source": [
    "#### Таблица Гипотезы"
   ]
  },
  {
   "cell_type": "code",
   "execution_count": 3,
   "id": "eadd249d",
   "metadata": {},
   "outputs": [
    {
     "name": "stdout",
     "output_type": "stream",
     "text": [
      "<class 'pandas.core.frame.DataFrame'>\n",
      "RangeIndex: 9 entries, 0 to 8\n",
      "Data columns (total 5 columns):\n",
      " #   Column      Non-Null Count  Dtype \n",
      "---  ------      --------------  ----- \n",
      " 0   Hypothesis  9 non-null      object\n",
      " 1   Reach       9 non-null      int64 \n",
      " 2   Impact      9 non-null      int64 \n",
      " 3   Confidence  9 non-null      int64 \n",
      " 4   Efforts     9 non-null      int64 \n",
      "dtypes: int64(4), object(1)\n",
      "memory usage: 488.0+ bytes\n"
     ]
    },
    {
     "data": {
      "text/html": [
       "<div>\n",
       "<style scoped>\n",
       "    .dataframe tbody tr th:only-of-type {\n",
       "        vertical-align: middle;\n",
       "    }\n",
       "\n",
       "    .dataframe tbody tr th {\n",
       "        vertical-align: top;\n",
       "    }\n",
       "\n",
       "    .dataframe thead th {\n",
       "        text-align: right;\n",
       "    }\n",
       "</style>\n",
       "<table border=\"1\" class=\"dataframe\">\n",
       "  <thead>\n",
       "    <tr style=\"text-align: right;\">\n",
       "      <th></th>\n",
       "      <th>Hypothesis</th>\n",
       "      <th>Reach</th>\n",
       "      <th>Impact</th>\n",
       "      <th>Confidence</th>\n",
       "      <th>Efforts</th>\n",
       "    </tr>\n",
       "  </thead>\n",
       "  <tbody>\n",
       "    <tr>\n",
       "      <th>0</th>\n",
       "      <td>Добавить два новых канала привлечения трафика, что позволит привлекать на 30% больше пользователей</td>\n",
       "      <td>3</td>\n",
       "      <td>10</td>\n",
       "      <td>8</td>\n",
       "      <td>6</td>\n",
       "    </tr>\n",
       "    <tr>\n",
       "      <th>1</th>\n",
       "      <td>Запустить собственную службу доставки, что сократит срок доставки заказов</td>\n",
       "      <td>2</td>\n",
       "      <td>5</td>\n",
       "      <td>4</td>\n",
       "      <td>10</td>\n",
       "    </tr>\n",
       "    <tr>\n",
       "      <th>2</th>\n",
       "      <td>Добавить блоки рекомендаций товаров на сайт интернет магазина, чтобы повысить конверсию и средний чек заказа</td>\n",
       "      <td>8</td>\n",
       "      <td>3</td>\n",
       "      <td>7</td>\n",
       "      <td>3</td>\n",
       "    </tr>\n",
       "    <tr>\n",
       "      <th>3</th>\n",
       "      <td>Изменить структура категорий, что увеличит конверсию, т.к. пользователи быстрее найдут нужный товар</td>\n",
       "      <td>8</td>\n",
       "      <td>3</td>\n",
       "      <td>3</td>\n",
       "      <td>8</td>\n",
       "    </tr>\n",
       "    <tr>\n",
       "      <th>4</th>\n",
       "      <td>Изменить цвет фона главной страницы, чтобы увеличить вовлеченность пользователей</td>\n",
       "      <td>3</td>\n",
       "      <td>1</td>\n",
       "      <td>1</td>\n",
       "      <td>1</td>\n",
       "    </tr>\n",
       "  </tbody>\n",
       "</table>\n",
       "</div>"
      ],
      "text/plain": [
       "                                                                                                     Hypothesis  \\\n",
       "0  Добавить два новых канала привлечения трафика, что позволит привлекать на 30% больше пользователей             \n",
       "1  Запустить собственную службу доставки, что сократит срок доставки заказов                                      \n",
       "2  Добавить блоки рекомендаций товаров на сайт интернет магазина, чтобы повысить конверсию и средний чек заказа   \n",
       "3  Изменить структура категорий, что увеличит конверсию, т.к. пользователи быстрее найдут нужный товар            \n",
       "4  Изменить цвет фона главной страницы, чтобы увеличить вовлеченность пользователей                               \n",
       "\n",
       "   Reach  Impact  Confidence  Efforts  \n",
       "0  3      10      8           6        \n",
       "1  2      5       4           10       \n",
       "2  8      3       7           3        \n",
       "3  8      3       3           8        \n",
       "4  3      1       1           1        "
      ]
     },
     "execution_count": 3,
     "metadata": {},
     "output_type": "execute_result"
    }
   ],
   "source": [
    "# Выводим полнуб длинну столбца,чтобы выдеть гипотезы\n",
    "pd.options.display.max_colwidth = 1\n",
    "\n",
    "# Информация про столбцы\n",
    "hypothesis.info() \n",
    "\n",
    "# Заголовок таблицы визиты \n",
    "hypothesis.head()"
   ]
  },
  {
   "cell_type": "code",
   "execution_count": 4,
   "id": "9a9f9dfb",
   "metadata": {},
   "outputs": [
    {
     "data": {
      "text/plain": [
       "0"
      ]
     },
     "execution_count": 4,
     "metadata": {},
     "output_type": "execute_result"
    }
   ],
   "source": [
    "# Преобразование таблицы\n",
    "\n",
    "# Приведем названия столбцов к синтаксическим правилам \n",
    "hypothesis = (hypothesis.rename(columns  = {'Hypothesis' : 'hypothesis' , \n",
    "                                   'Reach' : 'reach' ,\n",
    "                                   'Impact' : 'impact',\n",
    "                                   'Confidence' : 'confidence',\n",
    "                                   'Efforts' : 'efforts' }))\n",
    "\n",
    "# Проверим  наличие дублирующихся записей\n",
    "hypothesis.duplicated().sum()"
   ]
  },
  {
   "cell_type": "markdown",
   "id": "aba6af59",
   "metadata": {},
   "source": [
    "#### Таблица Заказы"
   ]
  },
  {
   "cell_type": "code",
   "execution_count": 5,
   "id": "01d41fb9",
   "metadata": {},
   "outputs": [
    {
     "name": "stdout",
     "output_type": "stream",
     "text": [
      "<class 'pandas.core.frame.DataFrame'>\n",
      "RangeIndex: 1197 entries, 0 to 1196\n",
      "Data columns (total 5 columns):\n",
      " #   Column         Non-Null Count  Dtype \n",
      "---  ------         --------------  ----- \n",
      " 0   transactionId  1197 non-null   int64 \n",
      " 1   visitorId      1197 non-null   int64 \n",
      " 2   date           1197 non-null   object\n",
      " 3   revenue        1197 non-null   int64 \n",
      " 4   group          1197 non-null   object\n",
      "dtypes: int64(3), object(2)\n",
      "memory usage: 46.9+ KB\n"
     ]
    },
    {
     "data": {
      "text/html": [
       "<div>\n",
       "<style scoped>\n",
       "    .dataframe tbody tr th:only-of-type {\n",
       "        vertical-align: middle;\n",
       "    }\n",
       "\n",
       "    .dataframe tbody tr th {\n",
       "        vertical-align: top;\n",
       "    }\n",
       "\n",
       "    .dataframe thead th {\n",
       "        text-align: right;\n",
       "    }\n",
       "</style>\n",
       "<table border=\"1\" class=\"dataframe\">\n",
       "  <thead>\n",
       "    <tr style=\"text-align: right;\">\n",
       "      <th></th>\n",
       "      <th>transactionId</th>\n",
       "      <th>visitorId</th>\n",
       "      <th>date</th>\n",
       "      <th>revenue</th>\n",
       "      <th>group</th>\n",
       "    </tr>\n",
       "  </thead>\n",
       "  <tbody>\n",
       "    <tr>\n",
       "      <th>0</th>\n",
       "      <td>3667963787</td>\n",
       "      <td>3312258926</td>\n",
       "      <td>2019-08-15</td>\n",
       "      <td>1650</td>\n",
       "      <td>B</td>\n",
       "    </tr>\n",
       "    <tr>\n",
       "      <th>1</th>\n",
       "      <td>2804400009</td>\n",
       "      <td>3642806036</td>\n",
       "      <td>2019-08-15</td>\n",
       "      <td>730</td>\n",
       "      <td>B</td>\n",
       "    </tr>\n",
       "    <tr>\n",
       "      <th>2</th>\n",
       "      <td>2961555356</td>\n",
       "      <td>4069496402</td>\n",
       "      <td>2019-08-15</td>\n",
       "      <td>400</td>\n",
       "      <td>A</td>\n",
       "    </tr>\n",
       "    <tr>\n",
       "      <th>3</th>\n",
       "      <td>3797467345</td>\n",
       "      <td>1196621759</td>\n",
       "      <td>2019-08-15</td>\n",
       "      <td>9759</td>\n",
       "      <td>B</td>\n",
       "    </tr>\n",
       "    <tr>\n",
       "      <th>4</th>\n",
       "      <td>2282983706</td>\n",
       "      <td>2322279887</td>\n",
       "      <td>2019-08-15</td>\n",
       "      <td>2308</td>\n",
       "      <td>B</td>\n",
       "    </tr>\n",
       "  </tbody>\n",
       "</table>\n",
       "</div>"
      ],
      "text/plain": [
       "   transactionId   visitorId        date  revenue group\n",
       "0  3667963787     3312258926  2019-08-15  1650     B   \n",
       "1  2804400009     3642806036  2019-08-15  730      B   \n",
       "2  2961555356     4069496402  2019-08-15  400      A   \n",
       "3  3797467345     1196621759  2019-08-15  9759     B   \n",
       "4  2282983706     2322279887  2019-08-15  2308     B   "
      ]
     },
     "execution_count": 5,
     "metadata": {},
     "output_type": "execute_result"
    }
   ],
   "source": [
    "# Информация про столбцы\n",
    "orders.info() \n",
    "\n",
    "# Заголовок таблицы визиты \n",
    "orders.head()"
   ]
  },
  {
   "cell_type": "code",
   "execution_count": 6,
   "id": "8c5514c6",
   "metadata": {},
   "outputs": [
    {
     "data": {
      "text/plain": [
       "0"
      ]
     },
     "execution_count": 6,
     "metadata": {},
     "output_type": "execute_result"
    }
   ],
   "source": [
    "# Проверим  наличие дублирующихся записей\n",
    "orders.duplicated().sum()"
   ]
  },
  {
   "cell_type": "code",
   "execution_count": 7,
   "id": "7f46c283",
   "metadata": {},
   "outputs": [],
   "source": [
    "# Приводим столбец к корректному формату\n",
    "orders['date'] = pd.to_datetime(orders['date'], format ='%Y-%m-%d')"
   ]
  },
  {
   "cell_type": "markdown",
   "id": "456cdb09",
   "metadata": {},
   "source": [
    "#### Таблица Посетители"
   ]
  },
  {
   "cell_type": "code",
   "execution_count": 8,
   "id": "f83d1d66",
   "metadata": {},
   "outputs": [
    {
     "name": "stdout",
     "output_type": "stream",
     "text": [
      "<class 'pandas.core.frame.DataFrame'>\n",
      "RangeIndex: 62 entries, 0 to 61\n",
      "Data columns (total 3 columns):\n",
      " #   Column    Non-Null Count  Dtype \n",
      "---  ------    --------------  ----- \n",
      " 0   date      62 non-null     object\n",
      " 1   group     62 non-null     object\n",
      " 2   visitors  62 non-null     int64 \n",
      "dtypes: int64(1), object(2)\n",
      "memory usage: 1.6+ KB\n"
     ]
    },
    {
     "data": {
      "text/html": [
       "<div>\n",
       "<style scoped>\n",
       "    .dataframe tbody tr th:only-of-type {\n",
       "        vertical-align: middle;\n",
       "    }\n",
       "\n",
       "    .dataframe tbody tr th {\n",
       "        vertical-align: top;\n",
       "    }\n",
       "\n",
       "    .dataframe thead th {\n",
       "        text-align: right;\n",
       "    }\n",
       "</style>\n",
       "<table border=\"1\" class=\"dataframe\">\n",
       "  <thead>\n",
       "    <tr style=\"text-align: right;\">\n",
       "      <th></th>\n",
       "      <th>date</th>\n",
       "      <th>group</th>\n",
       "      <th>visitors</th>\n",
       "    </tr>\n",
       "  </thead>\n",
       "  <tbody>\n",
       "    <tr>\n",
       "      <th>0</th>\n",
       "      <td>2019-08-01</td>\n",
       "      <td>A</td>\n",
       "      <td>719</td>\n",
       "    </tr>\n",
       "    <tr>\n",
       "      <th>1</th>\n",
       "      <td>2019-08-02</td>\n",
       "      <td>A</td>\n",
       "      <td>619</td>\n",
       "    </tr>\n",
       "    <tr>\n",
       "      <th>2</th>\n",
       "      <td>2019-08-03</td>\n",
       "      <td>A</td>\n",
       "      <td>507</td>\n",
       "    </tr>\n",
       "    <tr>\n",
       "      <th>3</th>\n",
       "      <td>2019-08-04</td>\n",
       "      <td>A</td>\n",
       "      <td>717</td>\n",
       "    </tr>\n",
       "    <tr>\n",
       "      <th>4</th>\n",
       "      <td>2019-08-05</td>\n",
       "      <td>A</td>\n",
       "      <td>756</td>\n",
       "    </tr>\n",
       "  </tbody>\n",
       "</table>\n",
       "</div>"
      ],
      "text/plain": [
       "         date group  visitors\n",
       "0  2019-08-01  A     719     \n",
       "1  2019-08-02  A     619     \n",
       "2  2019-08-03  A     507     \n",
       "3  2019-08-04  A     717     \n",
       "4  2019-08-05  A     756     "
      ]
     },
     "execution_count": 8,
     "metadata": {},
     "output_type": "execute_result"
    }
   ],
   "source": [
    "# Информация про столбцы\n",
    "visitors.info() \n",
    "\n",
    "# Заголовок таблицы визиты \n",
    "visitors.head()"
   ]
  },
  {
   "cell_type": "code",
   "execution_count": 9,
   "id": "0f2ba2d5",
   "metadata": {},
   "outputs": [],
   "source": [
    "# Приводим столбец к корректному формату\n",
    "\n",
    "visitors['date'] = pd.to_datetime(visitors['date'], format ='%Y-%m-%d')"
   ]
  },
  {
   "cell_type": "code",
   "execution_count": 10,
   "id": "224fd2b1",
   "metadata": {},
   "outputs": [
    {
     "name": "stdout",
     "output_type": "stream",
     "text": [
      "2019-08-01 00:00:00 2019-08-31 00:00:00\n",
      "2019-08-01 00:00:00 2019-08-31 00:00:00\n"
     ]
    }
   ],
   "source": [
    "# Сравниваме временные периоды в таблицах\n",
    "\n",
    "print(orders['date'].min() , orders['date'].max() )\n",
    "print(visitors ['date'].min(), visitors ['date'].max() )"
   ]
  },
  {
   "cell_type": "markdown",
   "id": "e30e21a9",
   "metadata": {},
   "source": [
    "### Вывод по Загрузке и  Преобработке данных\n",
    "\n",
    "Исходные данные проекта были представлены в 3 таблицах. \n",
    "\n",
    "- В процессе загрузки и проверки данных в таблицах дубликатов и пропусков не обнаруженно.\n",
    "- Назваиния столбцов приведенны к общепринятому формату, transactionId и visitorId -оставил в исходном виде, их так удобнее считать.\n",
    "- Были проверенны типы данных столбцов и приведены к соответствию с содержанрием данных.\n",
    "- Временные рамки указанные в таблицах Заказы (orders) и Посетители (visitors) соотствуют друг другу\n",
    "\n",
    "Ввводные данные готовы к дальнейшей работе в рамках проекта"
   ]
  },
  {
   "cell_type": "markdown",
   "id": "e7713579",
   "metadata": {},
   "source": [
    "## Часть 1. Приоритизация гипотез.\n",
    "\n",
    "- [x] Примените фреймворк ICE для приоритизации гипотез. Отсортируйте их по убыванию приоритета.\n",
    "- [x] Примените фреймворк RICE для приоритизации гипотез. Отсортируйте их по убыванию приоритета.\n",
    "- [x] Укажите, как изменилась приоритизация гипотез при применении RICE вместо ICE. Объясните, почему так произошло."
   ]
  },
  {
   "cell_type": "code",
   "execution_count": 11,
   "id": "e7963251",
   "metadata": {},
   "outputs": [
    {
     "data": {
      "text/html": [
       "<div>\n",
       "<style scoped>\n",
       "    .dataframe tbody tr th:only-of-type {\n",
       "        vertical-align: middle;\n",
       "    }\n",
       "\n",
       "    .dataframe tbody tr th {\n",
       "        vertical-align: top;\n",
       "    }\n",
       "\n",
       "    .dataframe thead th {\n",
       "        text-align: right;\n",
       "    }\n",
       "</style>\n",
       "<table border=\"1\" class=\"dataframe\">\n",
       "  <thead>\n",
       "    <tr style=\"text-align: right;\">\n",
       "      <th></th>\n",
       "      <th>hypothesis</th>\n",
       "      <th>reach</th>\n",
       "      <th>impact</th>\n",
       "      <th>confidence</th>\n",
       "      <th>efforts</th>\n",
       "      <th>ice</th>\n",
       "    </tr>\n",
       "  </thead>\n",
       "  <tbody>\n",
       "    <tr>\n",
       "      <th>8</th>\n",
       "      <td>Запустить акцию, дающую скидку на товар в день рождения</td>\n",
       "      <td>1</td>\n",
       "      <td>9</td>\n",
       "      <td>9</td>\n",
       "      <td>5</td>\n",
       "      <td>16.20</td>\n",
       "    </tr>\n",
       "    <tr>\n",
       "      <th>0</th>\n",
       "      <td>Добавить два новых канала привлечения трафика, что позволит привлекать на 30% больше пользователей</td>\n",
       "      <td>3</td>\n",
       "      <td>10</td>\n",
       "      <td>8</td>\n",
       "      <td>6</td>\n",
       "      <td>13.33</td>\n",
       "    </tr>\n",
       "    <tr>\n",
       "      <th>7</th>\n",
       "      <td>Добавить форму подписки на все основные страницы, чтобы собрать базу клиентов для email-рассылок</td>\n",
       "      <td>10</td>\n",
       "      <td>7</td>\n",
       "      <td>8</td>\n",
       "      <td>5</td>\n",
       "      <td>11.20</td>\n",
       "    </tr>\n",
       "    <tr>\n",
       "      <th>6</th>\n",
       "      <td>Показать на главной странице баннеры с актуальными акциями и распродажами, чтобы увеличить конверсию</td>\n",
       "      <td>5</td>\n",
       "      <td>3</td>\n",
       "      <td>8</td>\n",
       "      <td>3</td>\n",
       "      <td>8.00</td>\n",
       "    </tr>\n",
       "    <tr>\n",
       "      <th>2</th>\n",
       "      <td>Добавить блоки рекомендаций товаров на сайт интернет магазина, чтобы повысить конверсию и средний чек заказа</td>\n",
       "      <td>8</td>\n",
       "      <td>3</td>\n",
       "      <td>7</td>\n",
       "      <td>3</td>\n",
       "      <td>7.00</td>\n",
       "    </tr>\n",
       "    <tr>\n",
       "      <th>1</th>\n",
       "      <td>Запустить собственную службу доставки, что сократит срок доставки заказов</td>\n",
       "      <td>2</td>\n",
       "      <td>5</td>\n",
       "      <td>4</td>\n",
       "      <td>10</td>\n",
       "      <td>2.00</td>\n",
       "    </tr>\n",
       "    <tr>\n",
       "      <th>5</th>\n",
       "      <td>Добавить страницу отзывов клиентов о магазине, что позволит увеличить количество заказов</td>\n",
       "      <td>3</td>\n",
       "      <td>2</td>\n",
       "      <td>2</td>\n",
       "      <td>3</td>\n",
       "      <td>1.33</td>\n",
       "    </tr>\n",
       "    <tr>\n",
       "      <th>3</th>\n",
       "      <td>Изменить структура категорий, что увеличит конверсию, т.к. пользователи быстрее найдут нужный товар</td>\n",
       "      <td>8</td>\n",
       "      <td>3</td>\n",
       "      <td>3</td>\n",
       "      <td>8</td>\n",
       "      <td>1.12</td>\n",
       "    </tr>\n",
       "    <tr>\n",
       "      <th>4</th>\n",
       "      <td>Изменить цвет фона главной страницы, чтобы увеличить вовлеченность пользователей</td>\n",
       "      <td>3</td>\n",
       "      <td>1</td>\n",
       "      <td>1</td>\n",
       "      <td>1</td>\n",
       "      <td>1.00</td>\n",
       "    </tr>\n",
       "  </tbody>\n",
       "</table>\n",
       "</div>"
      ],
      "text/plain": [
       "                                                                                                     hypothesis  \\\n",
       "8  Запустить акцию, дающую скидку на товар в день рождения                                                        \n",
       "0  Добавить два новых канала привлечения трафика, что позволит привлекать на 30% больше пользователей             \n",
       "7  Добавить форму подписки на все основные страницы, чтобы собрать базу клиентов для email-рассылок               \n",
       "6  Показать на главной странице баннеры с актуальными акциями и распродажами, чтобы увеличить конверсию           \n",
       "2  Добавить блоки рекомендаций товаров на сайт интернет магазина, чтобы повысить конверсию и средний чек заказа   \n",
       "1  Запустить собственную службу доставки, что сократит срок доставки заказов                                      \n",
       "5  Добавить страницу отзывов клиентов о магазине, что позволит увеличить количество заказов                       \n",
       "3  Изменить структура категорий, что увеличит конверсию, т.к. пользователи быстрее найдут нужный товар            \n",
       "4  Изменить цвет фона главной страницы, чтобы увеличить вовлеченность пользователей                               \n",
       "\n",
       "   reach  impact  confidence  efforts    ice  \n",
       "8  1      9       9           5        16.20  \n",
       "0  3      10      8           6        13.33  \n",
       "7  10     7       8           5        11.20  \n",
       "6  5      3       8           3        8.00   \n",
       "2  8      3       7           3        7.00   \n",
       "1  2      5       4           10       2.00   \n",
       "5  3      2       2           3        1.33   \n",
       "3  8      3       3           8        1.12   \n",
       "4  3      1       1           1        1.00   "
      ]
     },
     "execution_count": 11,
     "metadata": {},
     "output_type": "execute_result"
    }
   ],
   "source": [
    "# Расчитываем показатель приоретизации гипотес методом ICE\n",
    "hypothesis['ice'] = round ( (hypothesis['impact']*hypothesis['confidence'] / hypothesis['efforts']),2)\n",
    "\n",
    "# Сортируем столбцы по показателю ICE\n",
    "hypothesis.sort_values(by = 'ice', ascending=False)\n"
   ]
  },
  {
   "cell_type": "code",
   "execution_count": 12,
   "id": "a4047125",
   "metadata": {
    "scrolled": true
   },
   "outputs": [
    {
     "data": {
      "text/html": [
       "<div>\n",
       "<style scoped>\n",
       "    .dataframe tbody tr th:only-of-type {\n",
       "        vertical-align: middle;\n",
       "    }\n",
       "\n",
       "    .dataframe tbody tr th {\n",
       "        vertical-align: top;\n",
       "    }\n",
       "\n",
       "    .dataframe thead th {\n",
       "        text-align: right;\n",
       "    }\n",
       "</style>\n",
       "<table border=\"1\" class=\"dataframe\">\n",
       "  <thead>\n",
       "    <tr style=\"text-align: right;\">\n",
       "      <th></th>\n",
       "      <th>hypothesis</th>\n",
       "      <th>reach</th>\n",
       "      <th>impact</th>\n",
       "      <th>confidence</th>\n",
       "      <th>efforts</th>\n",
       "      <th>ice</th>\n",
       "      <th>rice</th>\n",
       "    </tr>\n",
       "  </thead>\n",
       "  <tbody>\n",
       "    <tr>\n",
       "      <th>7</th>\n",
       "      <td>Добавить форму подписки на все основные страницы, чтобы собрать базу клиентов для email-рассылок</td>\n",
       "      <td>10</td>\n",
       "      <td>7</td>\n",
       "      <td>8</td>\n",
       "      <td>5</td>\n",
       "      <td>11.20</td>\n",
       "      <td>112.0</td>\n",
       "    </tr>\n",
       "    <tr>\n",
       "      <th>2</th>\n",
       "      <td>Добавить блоки рекомендаций товаров на сайт интернет магазина, чтобы повысить конверсию и средний чек заказа</td>\n",
       "      <td>8</td>\n",
       "      <td>3</td>\n",
       "      <td>7</td>\n",
       "      <td>3</td>\n",
       "      <td>7.00</td>\n",
       "      <td>56.0</td>\n",
       "    </tr>\n",
       "    <tr>\n",
       "      <th>0</th>\n",
       "      <td>Добавить два новых канала привлечения трафика, что позволит привлекать на 30% больше пользователей</td>\n",
       "      <td>3</td>\n",
       "      <td>10</td>\n",
       "      <td>8</td>\n",
       "      <td>6</td>\n",
       "      <td>13.33</td>\n",
       "      <td>40.0</td>\n",
       "    </tr>\n",
       "    <tr>\n",
       "      <th>6</th>\n",
       "      <td>Показать на главной странице баннеры с актуальными акциями и распродажами, чтобы увеличить конверсию</td>\n",
       "      <td>5</td>\n",
       "      <td>3</td>\n",
       "      <td>8</td>\n",
       "      <td>3</td>\n",
       "      <td>8.00</td>\n",
       "      <td>40.0</td>\n",
       "    </tr>\n",
       "    <tr>\n",
       "      <th>8</th>\n",
       "      <td>Запустить акцию, дающую скидку на товар в день рождения</td>\n",
       "      <td>1</td>\n",
       "      <td>9</td>\n",
       "      <td>9</td>\n",
       "      <td>5</td>\n",
       "      <td>16.20</td>\n",
       "      <td>16.2</td>\n",
       "    </tr>\n",
       "    <tr>\n",
       "      <th>3</th>\n",
       "      <td>Изменить структура категорий, что увеличит конверсию, т.к. пользователи быстрее найдут нужный товар</td>\n",
       "      <td>8</td>\n",
       "      <td>3</td>\n",
       "      <td>3</td>\n",
       "      <td>8</td>\n",
       "      <td>1.12</td>\n",
       "      <td>9.0</td>\n",
       "    </tr>\n",
       "    <tr>\n",
       "      <th>1</th>\n",
       "      <td>Запустить собственную службу доставки, что сократит срок доставки заказов</td>\n",
       "      <td>2</td>\n",
       "      <td>5</td>\n",
       "      <td>4</td>\n",
       "      <td>10</td>\n",
       "      <td>2.00</td>\n",
       "      <td>4.0</td>\n",
       "    </tr>\n",
       "    <tr>\n",
       "      <th>5</th>\n",
       "      <td>Добавить страницу отзывов клиентов о магазине, что позволит увеличить количество заказов</td>\n",
       "      <td>3</td>\n",
       "      <td>2</td>\n",
       "      <td>2</td>\n",
       "      <td>3</td>\n",
       "      <td>1.33</td>\n",
       "      <td>4.0</td>\n",
       "    </tr>\n",
       "    <tr>\n",
       "      <th>4</th>\n",
       "      <td>Изменить цвет фона главной страницы, чтобы увеличить вовлеченность пользователей</td>\n",
       "      <td>3</td>\n",
       "      <td>1</td>\n",
       "      <td>1</td>\n",
       "      <td>1</td>\n",
       "      <td>1.00</td>\n",
       "      <td>3.0</td>\n",
       "    </tr>\n",
       "  </tbody>\n",
       "</table>\n",
       "</div>"
      ],
      "text/plain": [
       "                                                                                                     hypothesis  \\\n",
       "7  Добавить форму подписки на все основные страницы, чтобы собрать базу клиентов для email-рассылок               \n",
       "2  Добавить блоки рекомендаций товаров на сайт интернет магазина, чтобы повысить конверсию и средний чек заказа   \n",
       "0  Добавить два новых канала привлечения трафика, что позволит привлекать на 30% больше пользователей             \n",
       "6  Показать на главной странице баннеры с актуальными акциями и распродажами, чтобы увеличить конверсию           \n",
       "8  Запустить акцию, дающую скидку на товар в день рождения                                                        \n",
       "3  Изменить структура категорий, что увеличит конверсию, т.к. пользователи быстрее найдут нужный товар            \n",
       "1  Запустить собственную службу доставки, что сократит срок доставки заказов                                      \n",
       "5  Добавить страницу отзывов клиентов о магазине, что позволит увеличить количество заказов                       \n",
       "4  Изменить цвет фона главной страницы, чтобы увеличить вовлеченность пользователей                               \n",
       "\n",
       "   reach  impact  confidence  efforts    ice   rice  \n",
       "7  10     7       8           5        11.20  112.0  \n",
       "2  8      3       7           3        7.00   56.0   \n",
       "0  3      10      8           6        13.33  40.0   \n",
       "6  5      3       8           3        8.00   40.0   \n",
       "8  1      9       9           5        16.20  16.2   \n",
       "3  8      3       3           8        1.12   9.0    \n",
       "1  2      5       4           10       2.00   4.0    \n",
       "5  3      2       2           3        1.33   4.0    \n",
       "4  3      1       1           1        1.00   3.0    "
      ]
     },
     "execution_count": 12,
     "metadata": {},
     "output_type": "execute_result"
    }
   ],
   "source": [
    "hypothesis['rice'] = round ( (hypothesis['impact']*hypothesis['confidence']*hypothesis['reach'] / hypothesis['efforts']),2)\n",
    "\n",
    "hypothesis.sort_values(by = 'rice', ascending=False)"
   ]
  },
  {
   "cell_type": "markdown",
   "id": "61695333",
   "metadata": {},
   "source": [
    "### Вывод Приоретизация гипотез\n",
    "\n",
    "При расчете гипотез методом RICE в числе наиболее приоритеных оказались иные гипотезы нежели при расчете фреймворком ICE. Отличие расчет фреймворков заключается в учете показателя Reach, которыйотражает, скольких пользователей затронет изменение, которое вы хотите внести. Если объем собранных данных содержит информацию по Reach,то при выборе фреймворка, конечно, стоит одать предпочтения приритетам основанным на фреймворке RICE.\n",
    "\n",
    "Гипотеза 7 \"Добавить форму подписки на все основные страницы, чтобы собрать базу клиентов для email-рассылок\" входит в топ-3 при расчете ICE and RICE ее стоит приоретизировать."
   ]
  },
  {
   "cell_type": "markdown",
   "id": "3f6faaa7",
   "metadata": {},
   "source": [
    "## Проверка данных к А/В тесту"
   ]
  },
  {
   "cell_type": "code",
   "execution_count": 13,
   "id": "d49d9d95",
   "metadata": {},
   "outputs": [
    {
     "name": "stdout",
     "output_type": "stream",
     "text": [
      "Общее количество посетителей: 1031\n",
      "количество посетителей в группе А: 503\n",
      "количество посетителей в группе В: 586\n"
     ]
    }
   ],
   "source": [
    "print('Общее количество посетителей:', orders['visitorId'].nunique())\n",
    "print('количество посетителей в группе А:', orders.query('group == \"A\"')['visitorId'].nunique())\n",
    "print('количество посетителей в группе В:', orders.query('group == \"B\"')['visitorId'].nunique())"
   ]
  },
  {
   "cell_type": "code",
   "execution_count": 14,
   "id": "32dda72c",
   "metadata": {},
   "outputs": [
    {
     "name": "stdout",
     "output_type": "stream",
     "text": [
      "           groups group_names\n",
      "visitorId                    \n",
      "8300375    2       [B, A]    \n",
      "199603092  2       [A, B]    \n",
      "232979603  2       [B, A]    \n",
      "237748145  2       [B, A]    \n",
      "276558944  2       [B, A]    \n",
      "Число посетителей дублирующихся в обеих группах: 58\n"
     ]
    }
   ],
   "source": [
    "#выборка пользователей, попавших в обе выборки\n",
    "\n",
    "dupl_users = orders.groupby('visitorId').agg({'group': ['nunique', 'unique']})\n",
    "dupl_users.columns = ['groups', 'group_names']\n",
    "dupl_users = dupl_users.query('groups > 1')\n",
    "print (dupl_users.head())\n",
    "print ('Число посетителей дублирующихся в обеих группах:' , len(dupl_users))\n"
   ]
  },
  {
   "cell_type": "markdown",
   "id": "ba59abc3",
   "metadata": {},
   "source": [
    "### Вывод Првоерка данных к А/В тесту\n",
    "\n",
    "- Общее число пользователей 1031.\n",
    "- Группы по численности сопостативыми 503 и 586\n",
    "- Число дублирующихся пользователей составляет 58 (5% от общей выборки и приблезительно по 10% в отдельной группе)\n",
    "\n",
    "Принято решение не удалять дубрирующие значения\n"
   ]
  },
  {
   "cell_type": "markdown",
   "id": "d45247f3",
   "metadata": {},
   "source": [
    "## Часть 2. Анализ A/B-теста (блок 1)\n",
    "\n",
    "\n",
    "- [x] Постройте график кумулятивной выручки по группам. Сделайте выводы и предположения.\n",
    "- [x] Постройте график кумулятивного среднего чека по группам. Сделайте выводы и предположения.\n",
    "- [x] Постройте график относительного изменения кумулятивного среднего чека группы B к группе A. Сделайте выводы и предположения.\n",
    "- [x] Постройте график кумулятивного среднего количества заказов на посетителя по группам. Сделайте выводы и предположения.\n",
    "- [x] Постройте график относительного изменения кумулятивного среднего количества заказов на посетителя группы B к группе A. Сделайте выводы и предположения.\n"
   ]
  },
  {
   "cell_type": "markdown",
   "id": "d315c7ca",
   "metadata": {},
   "source": [
    "### 1.  Постройте график кумулятивной выручки по группам. Сделайте выводы и предположения."
   ]
  },
  {
   "cell_type": "code",
   "execution_count": 15,
   "id": "cee847a5",
   "metadata": {},
   "outputs": [
    {
     "name": "stdout",
     "output_type": "stream",
     "text": [
      "        date group  orders  buyers  revenue  visitors\n",
      "0 2019-08-01  A     24      20      148579   719     \n",
      "1 2019-08-01  B     21      20      101217   713     \n",
      "2 2019-08-02  A     44      38      242401   1338    \n",
      "3 2019-08-02  B     45      43      266748   1294    \n",
      "4 2019-08-03  A     68      62      354874   1845    \n"
     ]
    }
   ],
   "source": [
    "# создаем массив уникальных пар значений дат и групп теста\n",
    "datesGroups = orders[['date','group']].drop_duplicates()\n",
    "\n",
    "# получаем агрегированные кумулятивные по дням данные о заказах \n",
    "ordersAggregated = datesGroups.apply(lambda x: orders[np.logical_and(orders['date'] <= x['date'], orders['group'] == x['group'])].agg({'date' : 'max', 'group' : 'max', 'transactionId' : 'nunique', 'visitorId' : 'nunique', 'revenue' : 'sum'}), axis=1).sort_values(by=['date','group'])\n",
    "\n",
    "# получаем агрегированные кумулятивные по дням данные о посетителях интернет-магазина \n",
    "visitorsAggregated = datesGroups.apply(lambda x: visitors[np.logical_and(visitors['date'] <= x['date'], visitors['group'] == x['group'])].agg({'date' : 'max', 'group' : 'max', 'visitors' : 'sum'}), axis=1).sort_values(by=['date','group'])\n",
    "\n",
    "# объединяем кумулятивные данные в одной таблице и присваиваем ее столбцам понятные названия\n",
    "cumulativeData = ordersAggregated.merge(visitorsAggregated, left_on=['date', 'group'], right_on=['date', 'group'])\n",
    "cumulativeData.columns = ['date', 'group', 'orders', 'buyers', 'revenue', 'visitors']\n",
    "\n",
    "print(cumulativeData.head(5)) "
   ]
  },
  {
   "cell_type": "code",
   "execution_count": 16,
   "id": "751fda1b",
   "metadata": {},
   "outputs": [
    {
     "data": {
      "image/png": "[encoded data removed]",
      "text/plain": [
       "<Figure size 432x288 with 1 Axes>"
      ]
     },
     "metadata": {
      "needs_background": "light"
     },
     "output_type": "display_data"
    }
   ],
   "source": [
    "# датафрейм с кумулятивным количеством заказов и кумулятивной выручкой по дням в группе А\n",
    "cumulativeRevenueA = cumulativeData[cumulativeData['group']=='A'][['date','revenue', 'orders']]\n",
    "\n",
    "# датафрейм с кумулятивным количеством заказов и кумулятивной выручкой по дням в группе B\n",
    "cumulativeRevenueB = cumulativeData[cumulativeData['group']=='B'][['date','revenue', 'orders']]\n",
    "\n",
    "# Строим график выручки группы А\n",
    "plt.plot(cumulativeRevenueA['date'], cumulativeRevenueA['revenue'], label='A')\n",
    "\n",
    "# Строим график выручки группы B\n",
    "plt.plot(cumulativeRevenueB['date'], cumulativeRevenueB['revenue'], label='B')\n",
    "\n",
    "plt.legend()\n",
    "plt.ylabel('Выручка')\n",
    "plt.xlabel('Дата')\n",
    "plt.title('Кумулятивная выручка')\n",
    "plt.xticks(rotation = 45)\n",
    "\n",
    "None"
   ]
  },
  {
   "cell_type": "markdown",
   "id": "e1d86d20",
   "metadata": {},
   "source": [
    "### Промежуточный Вывод\n",
    "\n",
    "Выручка в обеих группах растет на протяжении анализируемого периода, однако показатели группы В после 2019-08-17, совершают значительный скачек, что может быть вызванно увеличением числа заказов или же увеличинием средней стоимости отдельных заказов"
   ]
  },
  {
   "cell_type": "markdown",
   "id": "7791fb85",
   "metadata": {},
   "source": [
    "### 2. Постройте график кумулятивного среднего чека по группам. Сделайте выводы и предположения."
   ]
  },
  {
   "cell_type": "code",
   "execution_count": 17,
   "id": "dcf28596",
   "metadata": {},
   "outputs": [
    {
     "data": {
      "image/png": "[encoded data removed]",
      "text/plain": [
       "<Figure size 432x288 with 1 Axes>"
      ]
     },
     "metadata": {
      "needs_background": "light"
     },
     "output_type": "display_data"
    }
   ],
   "source": [
    "plt.plot(cumulativeRevenueA['date'], cumulativeRevenueA['revenue']/cumulativeRevenueA['orders'], label='A')\n",
    "plt.plot(cumulativeRevenueB['date'], cumulativeRevenueB['revenue']/cumulativeRevenueB['orders'], label='B')\n",
    "plt.legend()\n",
    "plt.ylabel('Величина среднего чека')\n",
    "plt.xlabel('Дата')\n",
    "plt.xticks(rotation = 45)\n",
    "plt.title('График среднего чека по группам')\n",
    "None"
   ]
  },
  {
   "cell_type": "markdown",
   "id": "96b39391",
   "metadata": {},
   "source": [
    "### Промежуточный Вывод\n",
    "\n",
    "Рассматривая динамику кумулятивного среднего чека по группам, видим рост среднего чека к концу преиода в каждой из групп. Однако динамика изменения среднего чека у групп сильно разнится. У группы В стремительный рост после 2019-08-17 и постепенный выход на плато до конца периода. У группы А рост с 2019-08-05 и выход на плато до конца периода"
   ]
  },
  {
   "cell_type": "markdown",
   "id": "b9095cd1",
   "metadata": {},
   "source": [
    "### 3. Постройте график относительного изменения кумулятивного среднего чека группы B к группе A. Сделайте выводы и предположения."
   ]
  },
  {
   "cell_type": "code",
   "execution_count": 18,
   "id": "5165a606",
   "metadata": {},
   "outputs": [
    {
     "data": {
      "image/png": "[encoded data removed]",
      "text/plain": [
       "<Figure size 432x288 with 1 Axes>"
      ]
     },
     "metadata": {
      "needs_background": "light"
     },
     "output_type": "display_data"
    }
   ],
   "source": [
    "# собираем данные в одном датафрейме\n",
    "mergedCumulativeRevenue = cumulativeRevenueA.merge(cumulativeRevenueB, left_on='date', right_on='date', how='left', suffixes=['A', 'B'])\n",
    "\n",
    "# cтроим отношение средних чеков\n",
    "plt.plot(mergedCumulativeRevenue['date'], (mergedCumulativeRevenue['revenueB']/mergedCumulativeRevenue['ordersB'])/(mergedCumulativeRevenue['revenueA']/mergedCumulativeRevenue['ordersA'])-1)\n",
    "plt.ylabel('Величина среднего чека')\n",
    "plt.xlabel('Дата')\n",
    "\n",
    "# добавляем ось X\n",
    "plt.axhline(y=0, color='black', linestyle='--') \n",
    "plt.xticks(rotation = 45)\n",
    "None"
   ]
  },
  {
   "cell_type": "markdown",
   "id": "293dbf5c",
   "metadata": {},
   "source": [
    "### Промежуточный Вывод\n",
    "\n",
    "В нескольких точках график различия между сегментами резко «скачет». Где-то уж точно спрятались крупные заказы и выбросы!"
   ]
  },
  {
   "cell_type": "markdown",
   "id": "d009d11e",
   "metadata": {},
   "source": [
    "### 4. Постройте график кумулятивного среднего количества заказов на посетителя по группам. Сделайте выводы и предположения."
   ]
  },
  {
   "cell_type": "code",
   "execution_count": 19,
   "id": "30f2b82c",
   "metadata": {},
   "outputs": [
    {
     "data": {
      "image/png": "[encoded data removed]",
      "text/plain": [
       "<Figure size 432x288 with 1 Axes>"
      ]
     },
     "metadata": {
      "needs_background": "light"
     },
     "output_type": "display_data"
    }
   ],
   "source": [
    "# считаем кумулятивную конверсию\n",
    "cumulativeData['conversion'] = cumulativeData['orders']/cumulativeData['visitors']\n",
    "\n",
    "# отделяем данные по группе A\n",
    "cumulativeDataA = cumulativeData[cumulativeData['group']=='A']\n",
    "\n",
    "# отделяем данные по группе B\n",
    "cumulativeDataB = cumulativeData[cumulativeData['group']=='B']\n",
    "\n",
    "# строим графики\n",
    "plt.plot(cumulativeDataA['date'], cumulativeDataA['conversion'], label='A')\n",
    "plt.plot(cumulativeDataB['date'], cumulativeDataB['conversion'], label='B')\n",
    "plt.legend()\n",
    "plt.ylabel('Кумулятивная конверсия')\n",
    "plt.xlabel('Дата')\n",
    "\n",
    "\n",
    "# задаем масштаб осей\n",
    "plt.axis([dt.datetime(2019, 8, 1), dt.datetime(2019, 8, 31), 0, 0.05])\n",
    "plt.title('График кумулятивной конверсии по группам')\n",
    "plt.xticks(rotation = 45)\n",
    "None"
   ]
  },
  {
   "cell_type": "markdown",
   "id": "ad208785",
   "metadata": {},
   "source": [
    "### Промежуточный Вывод\n",
    "\n",
    "Получившийся график имеет тенденцию к симметричности. Группы колебались около одного значения, но затем конверсия группы A вырвалась вперёд и зафиксировалась, а конверсия группы B просела и также зафиксировалась.\n"
   ]
  },
  {
   "cell_type": "markdown",
   "id": "d5fa4c0b",
   "metadata": {},
   "source": [
    "### 5. Постройте график относительного изменения кумулятивного среднего количества заказов на посетителя группы B к группе A. Сделайте выводы и предположения."
   ]
  },
  {
   "cell_type": "code",
   "execution_count": 20,
   "id": "c2d2dc82",
   "metadata": {},
   "outputs": [
    {
     "data": {
      "image/png": "[encoded data removed]",
      "text/plain": [
       "<Figure size 432x288 with 1 Axes>"
      ]
     },
     "metadata": {
      "needs_background": "light"
     },
     "output_type": "display_data"
    }
   ],
   "source": [
    "mergedCumulativeConversions = cumulativeDataA[['date','conversion']].merge(cumulativeDataB[['date','conversion']], left_on='date', right_on='date', how='left', suffixes=['A', 'B'])\n",
    "\n",
    "plt.plot(mergedCumulativeConversions['date'], mergedCumulativeConversions['conversionB']/mergedCumulativeConversions['conversionA']-1, label=\"Относительный прирост конверсии группы B относительно группы A\")\n",
    "plt.legend()\n",
    "plt.ylabel('Кумулятивная конверсия')\n",
    "plt.xlabel('Дата')\n",
    "\n",
    "plt.axhline(y=0, color='black', linestyle='--')\n",
    "plt.axhline(y=0.15, color='grey', linestyle='--')\n",
    "plt.axis([\"2019-08-01\", '2019-08-31', -0.3, 0.3])\n",
    "plt.xticks(rotation = 45)\n",
    "None"
   ]
  },
  {
   "cell_type": "markdown",
   "id": "9bde6475",
   "metadata": {},
   "source": [
    "### Промежуточный Вывод\n",
    "\n",
    "В начале теста группа В равнялась группе А, однакопосле 2019-08-05 гркппа В значительно выросла и совершив отскок зафиксирвоалась на значениях 0.2 - 0.1. (отразил серым пунктиром)"
   ]
  },
  {
   "cell_type": "markdown",
   "id": "bce8aed8",
   "metadata": {},
   "source": [
    "## Часть 2. Анализ A/B-теста (блок 2)\n",
    "\n",
    "\n",
    "- [x] Постройте точечный график количества заказов по пользователям. Сделайте выводы и предположения.\n",
    "- [x] Посчитайте 95-й и 99-й перцентили количества заказов на пользователя. Выберите границу для определения аномальных пользователей.\n",
    "- [x] Постройте точечный график стоимостей заказов. Сделайте выводы и предположения.\n",
    "- [x] Посчитайте 95-й и 99-й перцентили стоимости заказов. Выберите границу для определения аномальных заказов."
   ]
  },
  {
   "cell_type": "markdown",
   "id": "1869d224",
   "metadata": {},
   "source": [
    "### 6. Постройте точечный график количества заказов по пользователям. Сделайте выводы и предположения."
   ]
  },
  {
   "cell_type": "code",
   "execution_count": 21,
   "id": "0f53101e",
   "metadata": {},
   "outputs": [
    {
     "name": "stdout",
     "output_type": "stream",
     "text": [
      "       visitorId  orders\n",
      "1023  4256040402  11    \n",
      "591   2458001652  11    \n",
      "569   2378935119  9     \n",
      "487   2038680547  8     \n",
      "44    199603092   5     \n",
      "744   3062433592  5     \n",
      "55    237748145   5     \n",
      "917   3803269165  5     \n",
      "299   1230306981  5     \n",
      "897   3717692402  5     \n"
     ]
    }
   ],
   "source": [
    "ordersByUsers = (\n",
    "    orders.groupby('visitorId', as_index=False)\n",
    "    .agg({'transactionId': 'nunique'})\n",
    ")\n",
    "\n",
    "ordersByUsers.columns = ['visitorId', 'orders']\n",
    "\n",
    "print(ordersByUsers.sort_values(by='orders', ascending=False).head(10)) \n",
    "\n"
   ]
  },
  {
   "cell_type": "code",
   "execution_count": 22,
   "id": "c0ea0f88",
   "metadata": {},
   "outputs": [
    {
     "data": {
      "image/png": "[encoded data removed]",
      "text/plain": [
       "<Figure size 432x288 with 1 Axes>"
      ]
     },
     "metadata": {
      "needs_background": "light"
     },
     "output_type": "display_data"
    }
   ],
   "source": [
    "# серия из чисел от 0 до количества наблюдений в ordersByUsers\n",
    "x_values = pd.Series(range(0, len(ordersByUsers)))\n",
    "\n",
    "plt.scatter(x_values, ordersByUsers['orders'])\n",
    "plt.ylabel('Количество заказов')\n",
    "plt.xlabel('Количество пользователей')\n",
    "plt.title('График количества заказов по пользователям')\n",
    "\n",
    "None"
   ]
  },
  {
   "cell_type": "markdown",
   "id": "09f7559d",
   "metadata": {},
   "source": [
    "### Промежуточный Вывод\n",
    "\n",
    "График количество заказов по пользователям отражает весьма ожидаеимую картину, большенство посетителей совершают одну покупку. Занчительно меньшее число совершают 2-3 покупки. Значения более 4+ покупок уже являются аномально редкими и составлят не более 10% от общего числа покупок"
   ]
  },
  {
   "cell_type": "markdown",
   "id": "4995b0ba",
   "metadata": {},
   "source": [
    "### 7. Посчитайте 95-й и 99-й перцентили количества заказов на пользователя. Выберите границу для определения аномальных пользователей."
   ]
  },
  {
   "cell_type": "code",
   "execution_count": 23,
   "id": "2700b228",
   "metadata": {},
   "outputs": [
    {
     "name": "stdout",
     "output_type": "stream",
     "text": [
      "95 перцентиль: 2.00\n",
      "99 перцентиль: 4.00\n"
     ]
    }
   ],
   "source": [
    "# Метод np.percentile('column', [percentile1, percentile2, percentile3]) находит перцентили.\n",
    "\n",
    "print('95 перцентиль: %.2f' % (np.percentile(ordersByUsers['orders'], [95])))\n",
    "\n",
    "print('99 перцентиль: %.2f' % (np.percentile(ordersByUsers['orders'], [99])))\n",
    "\n",
    "# Аномлаьно число заказов (чтобы использвоать в формулах дальше)\n",
    "anom_zac = (np.percentile(ordersByUsers['orders'], 95))"
   ]
  },
  {
   "cell_type": "markdown",
   "id": "3827edae",
   "metadata": {},
   "source": [
    "### Промежуточный Вывод\n",
    "\n",
    "Получив значения перценталий, можем заключит,что не более 5% пользователей совершали покупку 2 раза и не более 1% пользоватлей совершили 4 покупки и более.\n",
    "\n",
    "Границей для определения аномальных пользоватлей установлена на отметке в 5% пользваотелей 2 товара+"
   ]
  },
  {
   "cell_type": "markdown",
   "id": "213248ff",
   "metadata": {},
   "source": [
    "### 8. Постройте точечный график стоимостей заказов. Сделайте выводы и предположения."
   ]
  },
  {
   "cell_type": "code",
   "execution_count": 24,
   "id": "43418ab4",
   "metadata": {},
   "outputs": [
    {
     "data": {
      "image/png": "[encoded data removed]",
      "text/plain": [
       "<Figure size 432x288 with 1 Axes>"
      ]
     },
     "metadata": {
      "needs_background": "light"
     },
     "output_type": "display_data"
    }
   ],
   "source": [
    "x_values = pd.Series(range(0, len(orders['revenue'])))\n",
    "\n",
    "plt.scatter(x_values, orders['revenue'])\n",
    "plt.ylabel('Стоимость заказов')\n",
    "plt.xlabel('Количество пользователей')\n",
    "plt.title('График стоимости заказов по пользователям')\n",
    "None"
   ]
  },
  {
   "cell_type": "markdown",
   "id": "200e58c4",
   "metadata": {},
   "source": [
    "### Промежуточный Вывод\n",
    "\n",
    "В рамках построенного графика видим, что значительная доля заказов находится в промежутке от 0.0 до 0.2. Число заказов превышающих эти показатели весьма незначительно."
   ]
  },
  {
   "cell_type": "markdown",
   "id": "9ea85b04",
   "metadata": {},
   "source": [
    "### 9. Посчитайте 95-й и 99-й перцентили стоимости заказов. Выберите границу для определения аномальных заказов."
   ]
  },
  {
   "cell_type": "code",
   "execution_count": 25,
   "id": "17665de6",
   "metadata": {},
   "outputs": [
    {
     "name": "stdout",
     "output_type": "stream",
     "text": [
      "95 перцентиль: 28000.00\n",
      "99 перцентиль: 58233.20\n",
      "28000.000000000004\n"
     ]
    }
   ],
   "source": [
    "# Метод np.percentile('column', [percentile1, percentile2, percentile3]) находит перцентили.\n",
    "\n",
    "print('95 перцентиль: %.2f' % (np.percentile(orders['revenue'], [95])))\n",
    "\n",
    "print('99 перцентиль: %.2f' % (np.percentile(orders['revenue'], [99])))\n",
    "\n",
    "\n",
    "# Аномлаьное число заказов (чтобы использвоать в формулах дальше)\n",
    "anom_sum = (np.percentile(orders['revenue'], 95))\n",
    "print(anom_sum)"
   ]
  },
  {
   "cell_type": "markdown",
   "id": "fe88821f",
   "metadata": {},
   "source": [
    "### Промежуточный Вывод\n",
    "\n",
    "Процентали отражают, что не более 5% пользоватлей совершили покупки на сумму 28000 и более. И не более 1% пользователей совершили покупки на сумму 58233 и более\n",
    "\n",
    "Граница опредления аномальной стоимости заказа установлена на пороге 5% плользоватлей (28 000)"
   ]
  },
  {
   "cell_type": "markdown",
   "id": "a0b9a54f",
   "metadata": {},
   "source": [
    "## Часть 2. Анализ A/B-теста (блок 3)\n",
    "\n",
    "- [x] Посчитайте статистическую значимость различий в среднем количестве заказов на посетителя между группами по «сырым» данным. Сделайте выводы и предположения.\n",
    "- [x] Посчитайте статистическую значимость различий в среднем чеке заказа между группами по «сырым» данным. Сделайте выводы и предположения.\n",
    "- [x] Посчитайте статистическую значимость различий в среднем количестве заказов на посетителя между группами по «очищенным» данным. Сделайте выводы и предположения.\n",
    "- [x] Посчитайте статистическую значимость различий в среднем чеке заказа между группами по «очищенным» данным. Сделайте выводы и предположения.\n",
    "- [x] Примите решение по результатам теста и объясните его. Варианты решений:\n",
    "    1. Остановить тест, зафиксировать победу одной из групп.\n",
    "    2. Остановить тест, зафиксировать отсутствие различий между группами.\n",
    "    3. Продолжить тест.\n"
   ]
  },
  {
   "cell_type": "markdown",
   "id": "dc70956b",
   "metadata": {},
   "source": [
    "###  10. Посчитайте статистическую значимость различий в среднем количестве заказов на посетителя между группами по «сырым» данным. Сделайте выводы и предположения."
   ]
  },
  {
   "cell_type": "code",
   "execution_count": 26,
   "id": "2a7bb68b",
   "metadata": {},
   "outputs": [],
   "source": [
    "visitorsADaily = visitors[visitors['group'] =='A'][['date', 'visitors']]\n",
    "visitorsADaily.columns = ['date' , 'visitoresPerDateA']\n",
    "\n",
    "visitorsBDaily = visitors[visitors['group'] =='B'][['date', 'visitors']]\n",
    "visitorsBDaily.columns = ['date' , 'visitoresPerDateB']\n",
    "\n",
    "ordersByUsersA = ( orders[orders['group'] == 'A']\n",
    "                  .groupby('visitorId', as_index = False)\n",
    "                  .agg({'transactionId': pd.Series.nunique})\n",
    "                 )\n",
    "ordersByUsersA.columns = ['visitorId','orders']\n",
    "\n",
    "\n",
    "ordersByUsersB = ( orders[orders['group'] == 'B']\n",
    "                  .groupby('visitorId', as_index = False)\n",
    "                  .agg({'transactionId': pd.Series.nunique})\n",
    "                 )\n",
    "ordersByUsersB.columns = ['visitorId','orders']\n",
    "\n",
    "SampleA = pd.concat(\n",
    "    [ordersByUsersA['orders'],\n",
    "     pd.Series(\n",
    "         0,\n",
    "         index = np.arange(\n",
    "             visitorsADaily['visitoresPerDateA'].sum() - len(ordersByUsersA['orders'])),\n",
    "         name = 'orders',\n",
    "     ),\n",
    "    ],\n",
    "    axis = 0,\n",
    ")\n",
    "\n",
    "SampleB = pd.concat(\n",
    "    [ordersByUsersB['orders'],\n",
    "     pd.Series(\n",
    "         0,\n",
    "         index = np.arange(\n",
    "             visitorsBDaily['visitoresPerDateB'].sum() - len(ordersByUsersB['orders'])),\n",
    "         name = 'orders',\n",
    "     ),\n",
    "    ],\n",
    "    axis = 0,\n",
    ")\n"
   ]
  },
  {
   "cell_type": "code",
   "execution_count": 27,
   "id": "2ec264a1",
   "metadata": {},
   "outputs": [
    {
     "name": "stdout",
     "output_type": "stream",
     "text": [
      "p-value \"сырые данные\": 0.01679\n",
      "Относительный прирост колличества заказов группы В \"сырые данные\": 0.138\n"
     ]
    }
   ],
   "source": [
    "print ('p-value \"сырые данные\":' , '{0:.5f}'.format(stats.mannwhitneyu(SampleA,SampleB)[1]))\n",
    "print('Относительный прирост колличества заказов группы В \"сырые данные\":' , '{0:.3f}'.format(SampleB.mean()/ SampleA.mean() - 1))"
   ]
  },
  {
   "cell_type": "markdown",
   "id": "39221492",
   "metadata": {},
   "source": [
    "### Промежуточный Вывод\n",
    "\n",
    "\n",
    "    Н0 : статистически значимых различий в среднем числе заказов между группами нет\n",
    "    Н1 : статистически значимых различий в среднем числе заказов между группами есть\n",
    "\n",
    "P-value = 0,01679 - меньше 0.05 -ошибки первого рода, что в свою очередь значит,что нулевую гипотезу ( H0: статистических различий в среднем числезаказов между группами нет) - отвергаем!\n",
    "Прирост 0.138 (14%) -относительный прирост среднего колличества заказов группы В к группе А\n",
    "\n"
   ]
  },
  {
   "cell_type": "markdown",
   "id": "ca11563e",
   "metadata": {},
   "source": [
    "### 11. Посчитайте статистическую значимость различий в среднем чеке заказа между группами по «сырым» данным. Сделайте выводы и предположения."
   ]
  },
  {
   "cell_type": "code",
   "execution_count": 28,
   "id": "b96a6364",
   "metadata": {},
   "outputs": [
    {
     "name": "stdout",
     "output_type": "stream",
     "text": [
      "p-value \"сырые данные\" : 0.729\n",
      "Относительный прирост среднего чека группы В \"сырые данные\": 0.259\n"
     ]
    }
   ],
   "source": [
    "print('p-value \"сырые данные\" :', '{0:.3f}'.format(stats.mannwhitneyu(orders[orders['group']=='A']['revenue'], orders[orders['group']=='B']['revenue'])[1]))\n",
    "print( 'Относительный прирост среднего чека группы В \"сырые данные\":','{0:.3f}'.format(orders[orders['group']=='B']['revenue'].mean()/orders[orders['group']=='A']['revenue'].mean()-1))"
   ]
  },
  {
   "cell_type": "markdown",
   "id": "dde225f6",
   "metadata": {},
   "source": [
    "### Промежуточный Вывод\n",
    "\n",
    "    Н0: различий в среднем чеке между группами нет.\n",
    "    Н1: различия в среднем чеке между группами есть\n",
    "\n",
    "\n",
    "Р-value = 0.729 значительно больше 0.05. Не удается отвергнуть нулевую гипотезу (Н0: различий в среднем чеке между группами нет. Средний чек группы B выше среднего чека группы A на 26%."
   ]
  },
  {
   "cell_type": "markdown",
   "id": "bc94834f",
   "metadata": {},
   "source": [
    "### 12. Посчитайте статистическую значимость различий в среднем количестве заказов на посетителя между группами по «очищенным» данным. Сделайте выводы и предположения."
   ]
  },
  {
   "cell_type": "markdown",
   "id": "8b80a8cd",
   "metadata": {},
   "source": [
    "Вспомним, что 95-й и 99-й перцентили стоимости заказов равны:\n",
    "\n",
    "    95 перцентиль : 28000.00 \n",
    "    99 перцентиль : 58233.20\n",
    "\n",
    "А 95-й и 99-й перцентили количества заказов на пользователя равны: \n",
    "\n",
    "    95 перцентиль : 2.00\n",
    "    99 перцентиль : 4.00\n",
    "\n",
    "Примите за аномальных пользователей тех, кто совершил 2 заказа и более, или совершил заказ на сумму свыше 28 000 рублей.\n",
    "\n",
    "Так мы уберёте 1% пользователей с наибольшим числом заказов и от 1% до 5% заказов с наибольшей стоимостью.\n",
    "\n",
    "Удалять нужно именно пользователей — сначала определить аномальные заказы. Затем пользователей, совершивших их, и добавить их в список аномальных. "
   ]
  },
  {
   "cell_type": "code",
   "execution_count": 29,
   "id": "378a1315",
   "metadata": {},
   "outputs": [
    {
     "name": "stdout",
     "output_type": "stream",
     "text": [
      "1099    148427295\n",
      "18      199603092\n",
      "928     204675465\n",
      "23      237748145\n",
      "37      249864742\n",
      "Name: visitorId, dtype: int64\n",
      "Число аномальных пользователей: 74\n"
     ]
    }
   ],
   "source": [
    "\n",
    "usersWithManyOrders = pd.concat(\n",
    "    [\n",
    "        ordersByUsersA[ordersByUsersA['orders'] > anom_zac]['visitorId'],\n",
    "        ordersByUsersB[ordersByUsersB['orders'] > anom_zac]['visitorId'],\n",
    "    ],\n",
    "    axis=0,\n",
    ")\n",
    "usersWithExpensiveOrders = orders[orders['revenue'] > anom_sum]['visitorId']\n",
    "abnormalUsers = (\n",
    "    pd.concat([usersWithManyOrders, usersWithExpensiveOrders], axis=0)\n",
    "    .drop_duplicates()\n",
    "    .sort_values()\n",
    ")\n",
    "print(abnormalUsers.head(5))\n",
    "print ( 'Число аномальных пользователей:' , len(abnormalUsers))"
   ]
  },
  {
   "cell_type": "code",
   "execution_count": 30,
   "id": "db7de393",
   "metadata": {},
   "outputs": [],
   "source": [
    "sampleAFiltered = pd.concat(\n",
    "    [\n",
    "        ordersByUsersA[\n",
    "            np.logical_not(ordersByUsersA['visitorId'].isin(abnormalUsers))\n",
    "        ]['orders'],\n",
    "        pd.Series(\n",
    "            0,\n",
    "            index=np.arange(\n",
    "                visitorsADaily['visitoresPerDateA'].sum() - len(ordersByUsersA['orders'])\n",
    "            ),\n",
    "            name='orders',\n",
    "        ),\n",
    "    ],\n",
    "    axis=0,\n",
    ")\n",
    "\n",
    "sampleBFiltered = pd.concat(\n",
    "    [\n",
    "        ordersByUsersB[\n",
    "            np.logical_not(ordersByUsersB['visitorId'].isin(abnormalUsers))\n",
    "        ]['orders'],\n",
    "        pd.Series(\n",
    "            0,\n",
    "            index=np.arange(\n",
    "                visitorsBDaily['visitoresPerDateB'].sum() - len(ordersByUsersB['orders'])\n",
    "            ),\n",
    "            name='orders',\n",
    "        ),\n",
    "    ],\n",
    "    axis=0,\n",
    ")\n"
   ]
  },
  {
   "cell_type": "code",
   "execution_count": 31,
   "id": "acfadf32",
   "metadata": {},
   "outputs": [
    {
     "name": "stdout",
     "output_type": "stream",
     "text": [
      "p-value \"очищенные данные\": 0.01304\n",
      "Относительный прирост колличества заказов группы В группы В \"очищенные данные\": 0.173\n"
     ]
    }
   ],
   "source": [
    "print('p-value \"очищенные данные\":','{0:.5f}'.format(stats.mannwhitneyu(sampleAFiltered, sampleBFiltered)[1]))\n",
    "print('Относительный прирост колличества заказов группы В группы В \"очищенные данные\":','{0:.3f}'.format(sampleBFiltered.mean()/sampleAFiltered.mean()-1))"
   ]
  },
  {
   "cell_type": "markdown",
   "id": "5f7c3ad9",
   "metadata": {},
   "source": [
    "### Промежуточный Вывод\n",
    "\n",
    "    Н0 : статистически значимых различий в среднем числе заказов между группами нет\n",
    "    Н1 : статистически значимых различий в среднем числе заказов между группами есть\n",
    "\n",
    "P-value = 0,01304 - меньше 0.05 -ошибки первого рода, что в свою очередь значит,что нулевую гипотезу ( H0: статистических различий в среднем числезаказов между группами нет) - отвергаем!. Как и в случе с \"сырыми данными\", тогда p-value составило 0,01679. После очистки данных решение по гипотезе не изменилось. Гипотезу отвергаем!\n",
    "\n",
    "    p-value по сырым данным - 0,01679\n",
    "    p-value по очищенным данным - 0,01304\n"
   ]
  },
  {
   "cell_type": "markdown",
   "id": "ba236f3d",
   "metadata": {},
   "source": [
    "### 13. Посчитайте статистическую значимость различий в среднем чеке заказа между группами по «очищенным» данным. Сделайте выводы и предположения."
   ]
  },
  {
   "cell_type": "code",
   "execution_count": 32,
   "id": "a1103333",
   "metadata": {},
   "outputs": [
    {
     "name": "stdout",
     "output_type": "stream",
     "text": [
      "p-value \"очищенные данные\": 0.73848\n",
      "Относительный прирост среднего чека группы В \"очищенные данные\": -0.01962\n"
     ]
    }
   ],
   "source": [
    "# Чтобы рассчитать статистическую значимость различий в среднем чеке, передадим критерию mannwhitneyu()\n",
    "# данные о выручке с заказов. \n",
    "# А ещё найдём относительные различия в среднем чеке между группами:\n",
    "\n",
    "print('p-value \"очищенные данные\":',\n",
    "    '{0:.5f}'.format(\n",
    "        stats.mannwhitneyu(\n",
    "            orders[\n",
    "                np.logical_and(\n",
    "                    orders['group'] == 'A',\n",
    "                    np.logical_not(orders['visitorId'].isin(abnormalUsers)),\n",
    "                )\n",
    "            ]['revenue'],\n",
    "            orders[\n",
    "                np.logical_and(\n",
    "                    orders['group'] == 'B',\n",
    "                    np.logical_not(orders['visitorId'].isin(abnormalUsers)),\n",
    "                )\n",
    "            ]['revenue'],\n",
    "        )[1]\n",
    "    )\n",
    ")\n",
    "\n",
    "print('Относительный прирост среднего чека группы В \"очищенные данные\":',\n",
    "    \"{0:.5f}\".format(\n",
    "        orders[\n",
    "            np.logical_and(\n",
    "                orders['group'] == 'B',\n",
    "                np.logical_not(orders['visitorId'].isin(abnormalUsers)),\n",
    "            )\n",
    "        ]['revenue'].mean()\n",
    "        / orders[\n",
    "            np.logical_and(\n",
    "                orders['group'] == 'A',\n",
    "                np.logical_not(orders['visitorId'].isin(abnormalUsers)),\n",
    "            )\n",
    "        ]['revenue'].mean()\n",
    "        - 1\n",
    "    )\n",
    ")"
   ]
  },
  {
   "cell_type": "markdown",
   "id": "e9a523b4",
   "metadata": {},
   "source": [
    "### Промежуточный Вывод\n",
    "\n",
    "    Н0 : статистически значимых различий в среднем чеке заказа между группами нет\n",
    "    Н1 : статистически значимые различия в среднем чеке заказа между группами есть\n",
    "\n",
    "P-value = 0,738-  значительно больше 0.05. Значит, причин отвергать нулевую гипотезу и считать, что в среднем чеке есть различия, нет. Впрочем, средний чек группы B незначительно ниже среднего чека группы A (на 2%). Решение по H0 гипотезе не изменилось. отвергнуть не можем!\n",
    "\n",
    "    p-value по сырым данным - 0,729\n",
    "    p-value по очищенным данным - 0,738"
   ]
  },
  {
   "cell_type": "markdown",
   "id": "a181cd2c",
   "metadata": {},
   "source": [
    "### 14. Примите решение по результатам теста и объясните его.\n",
    "\n",
    "- Часть 1\n",
    "\n",
    " При расчете гипотез методом RICE в числе наиболее приоритеных оказались иные гипотезы нежели при расчете фреймворком ICE. Отличие расчет фреймворков заключается в учете показателя Reach, которыйотражает, скольких пользователей затронет изменение, которое вы хотите внести. Если объем собранных данных содержит информацию по Reach,то при выборе фреймворка, конечно, стоит одать предпочтения приритетам основанным на фреймворке RICE.\n",
    "\n",
    "Гипотеза 7 \"Добавить форму подписки на все основные страницы, чтобы собрать базу клиентов для email-рассылок\" входит в топ-3 при расчете ICE and RICE ее стоит приоретизировать.\n",
    "\n",
    "--------\n",
    "- Часть 2 (блок 1)\n",
    "\n",
    "\n",
    "    1.  Кумулятивная выручка группы В во второй половине периода значительно выше выручки группы А. можно наблюдать мы значительный скачек 2019-08-19\n",
    "    2. График среднего чека по группам также отражет значительно превосходство группы В, особенно во второй половине рассматриваемого периода.\n",
    "    3. График кумулятивной конверсии по группам имеет тенденцию к симметричности. Группы колебались около одного значения, но затем конверсия группы A вырвалась вперёд и зафиксировалась, а конверсия группы B просела и также зафиксировалась.\n",
    "    4. График относительного изменения кумулятивного среднего количества заказов на посетителя группы B к группе A в начале теста группа В равнялась группе А, однакопосле 2019-08-05 гркппа В значительно выросла и совершив отскок зафиксирвоалась на значениях 0.2 - 0.1.\n",
    "        \n",
    "- Часть 2 (блок 2)\n",
    "\n",
    "    1. График количество заказов по пользователям отражает весьма ожидаеимую картину, большенство посетителей совершают одну покупку. Занчительно меньшее число совершают 2-3 покупки. Значения более 4+ покупок уже являются аномально редкими и составлят не более 10% от общего числа покупок.\n",
    "    2. Точечный график стоимостей заказов отражает, что значительная доля заказов находится в промежутке от 0.0 до 0.2.(до 200 тыс.вал.) Число заказов превышающих эти показатели весьма незначительно. \n",
    "\n",
    "- Часть 2(3 блок)\n",
    "    1. Статистическая значимость различий в среднем количестве заказов на посетителя между группами по «сырым» данным. P-value = 0,01679 - меньше 0.05 -ошибки первого рода, что в свою очередь значит,что нулевую гипотезу ( H0: статистических различий в среднем числезаказов между группами нет) - отвергаем! Прирост 0.138 (14%) -относительный прирост среднего колличества заказов группы В к группе А\n",
    "    2.  Статистическая значимость различий в среднем чеке заказа между группами по «сырым» данным. Р-value = 0.729 значительно больше 0.05. Не удается отвергнуть нулевую гипотезу (Н0: различий в среднем чеке между группами нет. Средний чек группы B выше среднего чека группы A на 26%.\n",
    "    3. Cтатистическую значимость различий в среднем количестве заказов на посетителя между группами по «очищенным» данным P-value = 0,01304 - меньше 0.05 -ошибки первого рода, что в свою очередь значит,что нулевую гипотезу ( H0: статистических различий в среднем числезаказов между группами нет) - отвергаем!. Как и в случе с \"сырыми данными\", тогда p-value составило 0,01679. После очистки данных решение по гипотезе не изменилось.\n",
    "    4. Статистическая значимость различий в среднем чеке заказа между группами по «очищенным» данным P-value = 0,738-  значительно больше 0.05. Значит, причин отвергать нулевую гипотезу и считать, что в среднем чеке есть различия, нет. Впрочем, средний чек группы B незначительно ниже среднего чека группы A (на 2%). Решение по H0 гипотезе не изменилось. отвергнуть не можем!\n",
    "\n",
    "-----\n",
    "- По результатам теста принято решение об остановке теста и признания его успешным. Зафиксировать малое различе по сумме среднего чека различий между группами по сумме среднего чека и победу группы В, и значительно различе в пользу группы В по числу зуказов на посетителя в +17% по очищенным данным. Графики конверсии отражают получивший рузультат."
   ]
  }
 ],
 "metadata": {
  "ExecuteTimeLog": [
   {
    "duration": 77,
    "start_time": "2023-02-10T14:56:38.919Z"
   },
   {
    "duration": 79,
    "start_time": "2023-02-10T14:57:53.064Z"
   },
   {
    "duration": 1066,
    "start_time": "2023-02-21T19:37:38.278Z"
   },
   {
    "duration": 226,
    "start_time": "2023-02-21T19:37:39.346Z"
   },
   {
    "duration": 20,
    "start_time": "2023-02-21T19:37:39.574Z"
   },
   {
    "duration": 5,
    "start_time": "2023-02-21T19:37:39.596Z"
   },
   {
    "duration": 15,
    "start_time": "2023-02-21T19:37:39.603Z"
   },
   {
    "duration": 4,
    "start_time": "2023-02-21T19:37:39.619Z"
   },
   {
    "duration": 14,
    "start_time": "2023-02-21T19:37:39.625Z"
   },
   {
    "duration": 23,
    "start_time": "2023-02-21T19:37:39.641Z"
   },
   {
    "duration": 11,
    "start_time": "2023-02-21T19:37:39.666Z"
   },
   {
    "duration": 9,
    "start_time": "2023-02-21T19:37:39.679Z"
   },
   {
    "duration": 15,
    "start_time": "2023-02-21T19:37:39.689Z"
   },
   {
    "duration": 10,
    "start_time": "2023-02-21T19:37:39.705Z"
   },
   {
    "duration": 11,
    "start_time": "2023-02-21T19:37:39.716Z"
   },
   {
    "duration": 63,
    "start_time": "2023-02-21T19:37:39.748Z"
   },
   {
    "duration": 276,
    "start_time": "2023-02-21T19:37:39.813Z"
   },
   {
    "duration": 250,
    "start_time": "2023-02-21T19:37:40.091Z"
   },
   {
    "duration": 170,
    "start_time": "2023-02-21T19:37:40.342Z"
   },
   {
    "duration": 263,
    "start_time": "2023-02-21T19:37:40.514Z"
   },
   {
    "duration": 162,
    "start_time": "2023-02-21T19:37:40.779Z"
   },
   {
    "duration": 280,
    "start_time": "2023-02-21T19:37:40.947Z"
   },
   {
    "duration": 20,
    "start_time": "2023-02-21T19:37:41.228Z"
   },
   {
    "duration": 127,
    "start_time": "2023-02-21T19:37:41.249Z"
   },
   {
    "duration": 6,
    "start_time": "2023-02-21T19:37:41.378Z"
   },
   {
    "duration": 226,
    "start_time": "2023-02-21T19:37:41.385Z"
   },
   {
    "duration": 6,
    "start_time": "2023-02-21T19:37:41.613Z"
   },
   {
    "duration": 151,
    "start_time": "2023-02-21T19:37:41.621Z"
   },
   {
    "duration": 23,
    "start_time": "2023-02-21T19:37:41.774Z"
   },
   {
    "duration": 10,
    "start_time": "2023-02-21T19:37:41.800Z"
   },
   {
    "duration": 8,
    "start_time": "2023-02-21T19:37:41.812Z"
   },
   {
    "duration": 30,
    "start_time": "2023-02-21T19:37:41.821Z"
   },
   {
    "duration": 23,
    "start_time": "2023-02-21T19:37:41.853Z"
   },
   {
    "duration": 13,
    "start_time": "2023-02-21T19:37:41.878Z"
   }
  ],
  "kernelspec": {
   "display_name": "Python 3 (ipykernel)",
   "language": "python",
   "name": "python3"
  },
  "language_info": {
   "codemirror_mode": {
    "name": "ipython",
    "version": 3
   },
   "file_extension": ".py",
   "mimetype": "text/x-python",
   "name": "python",
   "nbconvert_exporter": "python",
   "pygments_lexer": "ipython3",
   "version": "3.9.13"
  },
  "toc": {
   "base_numbering": 1,
   "nav_menu": {},
   "number_sections": true,
   "sideBar": true,
   "skip_h1_title": true,
   "title_cell": "Table of Contents",
   "title_sidebar": "Contents",
   "toc_cell": false,
   "toc_position": {},
   "toc_section_display": true,
   "toc_window_display": false
  }
 },
 "nbformat": 4,
 "nbformat_minor": 5
}
